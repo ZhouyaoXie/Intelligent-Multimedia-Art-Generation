{
  "nbformat": 4,
  "nbformat_minor": 0,
  "metadata": {
    "colab": {
      "provenance": [],
      "collapsed_sections": [
        "qV5wkrMWCDwZ",
        "sMlfkOE0CMIy"
      ]
    },
    "kernelspec": {
      "name": "python3",
      "display_name": "Python 3"
    },
    "language_info": {
      "name": "python"
    }
  },
  "cells": [
    {
      "cell_type": "markdown",
      "source": [
        "helper functions"
      ],
      "metadata": {
        "id": "Gpa015kDCbMd"
      }
    },
    {
      "cell_type": "code",
      "execution_count": 1,
      "metadata": {
        "id": "gH4tI1yV1sXG"
      },
      "outputs": [],
      "source": [
        "import pickle\n",
        "\n",
        "def load_pickle(fn):\n",
        "  with open(fn, \"rb\") as f:\n",
        "    return pickle.load(f)"
      ]
    },
    {
      "cell_type": "markdown",
      "source": [
        "# Compare both vocab files"
      ],
      "metadata": {
        "id": "qV5wkrMWCDwZ"
      }
    },
    {
      "cell_type": "code",
      "source": [
        "MM_vocab_file = \"/content/drive/MyDrive/Capstone/Deep Music Generation Group Folder/dataset/remi_vocab_MM.pkl\"\n",
        "our_vocab_file = \"/content/drive/MyDrive/Capstone/Deep Music Generation Group Folder/dataset/remi_vocab.pkl\""
      ],
      "metadata": {
        "id": "j-60s_4x2SjX"
      },
      "execution_count": 16,
      "outputs": []
    },
    {
      "cell_type": "code",
      "source": [
        "remi_vocab = load_pickle(MM_vocab_file)\n",
        "our_vocab = load_pickle(our_vocab_file)"
      ],
      "metadata": {
        "id": "-Prg7TUB14vu"
      },
      "execution_count": 17,
      "outputs": []
    },
    {
      "cell_type": "code",
      "source": [
        "len(remi_vocab[1]), len(our_vocab[1])"
      ],
      "metadata": {
        "colab": {
          "base_uri": "https://localhost:8080/"
        },
        "id": "3Ck95qdb2jw5",
        "outputId": "0fda09cc-51a7-46c1-8410-40b223e2559d"
      },
      "execution_count": 18,
      "outputs": [
        {
          "output_type": "execute_result",
          "data": {
            "text/plain": [
              "(332, 403)"
            ]
          },
          "metadata": {},
          "execution_count": 18
        }
      ]
    },
    {
      "cell_type": "code",
      "source": [
        "# remi_vocab[1]"
      ],
      "metadata": {
        "id": "0Vamd7cA4fOH"
      },
      "execution_count": null,
      "outputs": []
    },
    {
      "cell_type": "markdown",
      "source": [
        "sanity checks"
      ],
      "metadata": {
        "id": "830ZGEPpCJbT"
      }
    },
    {
      "cell_type": "code",
      "source": [
        "# vocab sanity checks\n",
        "assert len(remi_vocab[0]) == len(remi_vocab[1])\n",
        "assert set(remi_vocab[0].keys()) == set(remi_vocab[1].values())\n",
        "assert set(remi_vocab[0].values()) == set(remi_vocab[1].keys())\n",
        "assert len(our_vocab[0]) == len(our_vocab[1])\n",
        "assert set(our_vocab[0].keys()) == set(our_vocab[1].values())\n",
        "assert set(our_vocab[0].values()) == set(our_vocab[1].keys())"
      ],
      "metadata": {
        "id": "aHO5pKlr13mT"
      },
      "execution_count": 19,
      "outputs": []
    },
    {
      "cell_type": "code",
      "source": [
        "# check whether everything remi vocab has our_vocab also has\n",
        "for k, v in remi_vocab[0].items():\n",
        "    assert k in our_vocab[0]\n",
        "\n",
        "# check whether for these keys, the values are the same\n",
        "i = 0 \n",
        "for k, v in remi_vocab[0].items():\n",
        "    if v != our_vocab[0][k]:\n",
        "        print(k, remi_vocab[0][k], our_vocab[0][k])\n",
        "        i += 1\n",
        "print(i)\n",
        "print('=' * 40)\n",
        "\n",
        "# get newly added keys\n",
        "j = 0\n",
        "for k, v in our_vocab[0].items():\n",
        "    if k not in remi_vocab[0]:\n",
        "        print(k, v)\n",
        "        j += 1\n",
        "print(j)"
      ],
      "metadata": {
        "id": "USGYJvMk2vw2"
      },
      "execution_count": null,
      "outputs": []
    },
    {
      "cell_type": "markdown",
      "source": [
        "# Modify pretrained weights"
      ],
      "metadata": {
        "id": "sMlfkOE0CMIy"
      }
    },
    {
      "cell_type": "code",
      "source": [
        "# download MM's pretrained weights\n",
        "!wget -O musemorphose_pretrained_weights.pt https://zenodo.org/record/5119525/files/musemorphose_pretrained_weights.pt?download=1"
      ],
      "metadata": {
        "colab": {
          "base_uri": "https://localhost:8080/"
        },
        "id": "U4IzAZmV20lT",
        "outputId": "00112446-82e0-4343-c111-ab418683cc6b"
      },
      "execution_count": 21,
      "outputs": [
        {
          "output_type": "stream",
          "name": "stdout",
          "text": [
            "--2022-10-26 19:56:39--  https://zenodo.org/record/5119525/files/musemorphose_pretrained_weights.pt?download=1\n",
            "Resolving zenodo.org (zenodo.org)... 188.184.117.155\n",
            "Connecting to zenodo.org (zenodo.org)|188.184.117.155|:443... connected.\n",
            "HTTP request sent, awaiting response... 200 OK\n",
            "Length: 359717524 (343M) [application/octet-stream]\n",
            "Saving to: ‘musemorphose_pretrained_weights.pt’\n",
            "\n",
            "musemorphose_pretra 100%[===================>] 343.05M  26.6MB/s    in 14s     \n",
            "\n",
            "2022-10-26 19:56:55 (24.9 MB/s) - ‘musemorphose_pretrained_weights.pt’ saved [359717524/359717524]\n",
            "\n"
          ]
        }
      ]
    },
    {
      "cell_type": "code",
      "source": [
        "import torch\n",
        "pretrained_weights = torch.load(\"/content/musemorphose_pretrained_weights.pt\")"
      ],
      "metadata": {
        "id": "HPMAy69Y3keU"
      },
      "execution_count": 24,
      "outputs": []
    },
    {
      "cell_type": "code",
      "source": [
        "len(pretrained_weights)"
      ],
      "metadata": {
        "colab": {
          "base_uri": "https://localhost:8080/"
        },
        "id": "bIkwWdTn3vRq",
        "outputId": "6ae058ec-a9af-405e-86f0-fd7ba0f121ac"
      },
      "execution_count": 26,
      "outputs": [
        {
          "output_type": "execute_result",
          "data": {
            "text/plain": [
              "311"
            ]
          },
          "metadata": {},
          "execution_count": 26
        }
      ]
    },
    {
      "cell_type": "code",
      "source": [
        "# map keys in our vocab to keys in the original vocab\n",
        "def map_keys(remi_vocab, our_vocab):\n",
        "  remi_vocab_k2idx, remi_vocab_idx2k = remi_vocab\n",
        "  our_vocab_k2idx, our_vocab_idx2k = our_vocab\n",
        "  ours2mm = {}\n",
        "  for k, v in our_vocab_idx2k.items():\n",
        "    if v in remi_vocab_k2idx:\n",
        "      ours2mm[k] = remi_vocab_k2idx[v]\n",
        "  return ours2mm"
      ],
      "metadata": {
        "id": "AteXIIwn7i73"
      },
      "execution_count": 46,
      "outputs": []
    },
    {
      "cell_type": "code",
      "source": [
        "ours2mm = map_keys(remi_vocab, our_vocab)"
      ],
      "metadata": {
        "id": "ZUkdkDH27nnL"
      },
      "execution_count": 52,
      "outputs": []
    },
    {
      "cell_type": "code",
      "source": [
        "def convert_mm_to_ours(pretrained, ours2mm, new_dim=404):\n",
        "  our_shape = list(pretrained.shape)\n",
        "  our_shape[0] = new_dim\n",
        "  converted = torch.zeros(our_shape).float()\n",
        "  for i in range(new_dim):\n",
        "    if i in ours2mm:\n",
        "      # keys existed in original vocab\n",
        "      converted[i] = pretrained[ours2mm[i]]\n",
        "  # add original last dim to our last dim\n",
        "  converted[-1] = pretrained[-1]\n",
        "  return converted"
      ],
      "metadata": {
        "id": "p94HUIN14aW_"
      },
      "execution_count": 78,
      "outputs": []
    },
    {
      "cell_type": "markdown",
      "source": [
        "convert"
      ],
      "metadata": {
        "id": "k7g8_xSXCYrO"
      }
    },
    {
      "cell_type": "code",
      "source": [
        "from collections import OrderedDict"
      ],
      "metadata": {
        "id": "TNz_fdmTBKRG"
      },
      "execution_count": 86,
      "outputs": []
    },
    {
      "cell_type": "code",
      "source": [
        "converted_weights = OrderedDict()\n",
        "for k, v in pretrained_weights.items():\n",
        "  if 333 in v.shape:   # contain vocab dim related weights\n",
        "    converted_weights[k] = convert_mm_to_ours(v, ours2mm)\n",
        "    print(k, converted_weights[k].shape)\n",
        "  else:\n",
        "    converted_weights[k] = v"
      ],
      "metadata": {
        "colab": {
          "base_uri": "https://localhost:8080/"
        },
        "id": "8CCJIg6u_RrD",
        "outputId": "fb4d04da-cebe-4e99-e964-30ec9a74b725"
      },
      "execution_count": 87,
      "outputs": [
        {
          "output_type": "stream",
          "name": "stdout",
          "text": [
            "token_emb.emb_lookup.weight torch.Size([404, 512])\n",
            "dec_out_proj.weight torch.Size([404, 512])\n",
            "dec_out_proj.bias torch.Size([404])\n"
          ]
        }
      ]
    },
    {
      "cell_type": "markdown",
      "source": [
        "save results"
      ],
      "metadata": {
        "id": "WMP1-QbMCXFN"
      }
    },
    {
      "cell_type": "code",
      "source": [
        "torch.save(converted_weights, \"converted_pretrained_weights.pt\")"
      ],
      "metadata": {
        "id": "bJTmM5iB_kjL"
      },
      "execution_count": 88,
      "outputs": []
    },
    {
      "cell_type": "code",
      "source": [
        "# !cp \"/content/converted_pretrained_weights.pt\" \"/content/drive/MyDrive/Capstone/Deep Music Generation Group Folder/dataset\""
      ],
      "metadata": {
        "id": "QuiOhaJgBS6b"
      },
      "execution_count": 89,
      "outputs": []
    },
    {
      "cell_type": "code",
      "source": [],
      "metadata": {
        "id": "4aXXttwmBjHc"
      },
      "execution_count": null,
      "outputs": []
    }
  ]
}